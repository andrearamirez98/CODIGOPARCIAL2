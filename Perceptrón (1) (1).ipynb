{
 "cells": [
  {
   "cell_type": "code",
   "execution_count": 1,
   "metadata": {},
   "outputs": [],
   "source": [
    "from random import choice\n",
    "from numpy import array, dot, random\n",
    "import matplotlib.pyplot as plt"
   ]
  },
  {
   "cell_type": "code",
   "execution_count": 2,
   "metadata": {},
   "outputs": [],
   "source": [
    "#Funcion de Activación\n",
    "activacion = lambda x:0 if x < 0 else 1"
   ]
  },
  {
   "cell_type": "code",
   "execution_count": 3,
   "metadata": {},
   "outputs": [],
   "source": [
    "#Set de Entrenamiento\n",
    "entrenamiento = [\n",
    "    (array([0,0,1]),0),\n",
    "    (array([0,1,1]),1),\n",
    "    (array([1,0,1]),1),\n",
    "    (array([1,1,1]),1),\n",
    "]"
   ]
  },
  {
   "cell_type": "code",
   "execution_count": 4,
   "metadata": {},
   "outputs": [],
   "source": [
    "w = random.rand(3)\n",
    "errores = []\n",
    "esperados = []\n",
    "bahias = 0.2\n",
    "n = 100"
   ]
  },
  {
   "cell_type": "code",
   "execution_count": 5,
   "metadata": {},
   "outputs": [],
   "source": [
    "#Entrenamiento\n",
    "for i in range(n):\n",
    "    x, esperado = choice(entrenamiento)\n",
    "    resultado = dot(w, x)\n",
    "    esperados.append(esperado)\n",
    "    error = esperado - activacion(resultado)\n",
    "    errores.append(error)\n",
    "    #Ajuste\n",
    "    w += bahias * error * x"
   ]
  },
  {
   "cell_type": "code",
   "execution_count": 6,
   "metadata": {},
   "outputs": [
    {
     "name": "stdout",
     "output_type": "stream",
     "text": [
      "[0 0 1]: -0.0033621453382166044 -> 0\n",
      "[0 1 1]: 0.6508848110984753 -> 1\n",
      "[1 0 1]: 0.6597758192860717 -> 1\n",
      "[1 1 1]: 1.3140227757227634 -> 1\n"
     ]
    }
   ],
   "source": [
    "for x, _ in entrenamiento:\n",
    "    resultado = dot(w, x)\n",
    "    print(\"{}: {} -> {}\".format(x[:3], resultado, activacion(resultado)))"
   ]
  },
  {
   "cell_type": "code",
   "execution_count": 7,
   "metadata": {},
   "outputs": [
    {
     "data": {
      "text/plain": [
       "[<matplotlib.lines.Line2D at 0x2d1d8360a20>]"
      ]
     },
     "execution_count": 7,
     "metadata": {},
     "output_type": "execute_result"
    },
    {
     "data": {
      "image/png": "[encoded data removed]",
      "text/plain": [
       "<Figure size 432x288 with 1 Axes>"
      ]
     },
     "metadata": {
      "needs_background": "light"
     },
     "output_type": "display_data"
    }
   ],
   "source": [
    "plt.plot(errores,'-',color='red')\n",
    "plt.plot(esperados,'*', color='green')"
   ]
  },
  {
   "cell_type": "code",
   "execution_count": null,
   "metadata": {},
   "outputs": [],
   "source": []
  }
 ],
 "metadata": {
  "kernelspec": {
   "display_name": "Python 3",
   "language": "python",
   "name": "python3"
  },
  "language_info": {
   "codemirror_mode": {
    "name": "ipython",
    "version": 3
   },
   "file_extension": ".py",
   "mimetype": "text/x-python",
   "name": "python",
   "nbconvert_exporter": "python",
   "pygments_lexer": "ipython3",
   "version": "3.7.3"
  }
 },
 "nbformat": 4,
 "nbformat_minor": 2
}
