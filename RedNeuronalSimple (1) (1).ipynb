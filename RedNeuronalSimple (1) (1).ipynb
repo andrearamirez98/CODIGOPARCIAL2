{
 "cells": [
  {
   "cell_type": "code",
   "execution_count": 28,
   "metadata": {},
   "outputs": [],
   "source": [
    "from random import choice\n",
    "from numpy import exp, array, random, dot\n",
    "import matplotlib.pyplot as plt"
   ]
  },
  {
   "cell_type": "code",
   "execution_count": 29,
   "metadata": {},
   "outputs": [
    {
     "name": "stdout",
     "output_type": "stream",
     "text": [
      "[[ 7.47884382]\n",
      " [ 2.32567815]\n",
      " [-4.75412115]]\n",
      "[0.99943541]\n"
     ]
    },
    {
     "data": {
      "image/png": "[encoded data removed]",
      "text/plain": [
       "<Figure size 432x288 with 1 Axes>"
      ]
     },
     "metadata": {
      "needs_background": "light"
     },
     "output_type": "display_data"
    }
   ],
   "source": [
    "class RedNeuronal():\n",
    "    def __init__(self):\n",
    "        self.pesos_signaticos = 2 * random.random((3,1)) - 1\n",
    "    \n",
    "    def __sigmoide(self, x):\n",
    "        return 1 / (1 + exp(-x))\n",
    "    \n",
    "    def __sigmoide_derivado(self, x):\n",
    "        return x * (1 - x)\n",
    "    \n",
    "    def entrenamiento(self,entradas,salidas,numero_iteraciones):\n",
    "        errores =[]\n",
    "        resulEsperados = []\n",
    "        for i in range(numero_iteraciones):\n",
    "            salida = self.pensar(entradas)\n",
    "            error = salidas - salida\n",
    "            ajuste = dot(entradas.T, error * self.__sigmoide_derivado(salida))\n",
    "            self.pesos_signaticos += ajuste\n",
    "            \n",
    "            esperado = choice(salidas)  \n",
    "            errores.append(error)\n",
    "            resulEsperados.append(esperado)\n",
    "            \n",
    "            plt.plot(error,'-',color='red')\n",
    "            plt.plot(resulEsperados,'*', color='green')\n",
    "\n",
    "            \n",
    "    def pensar(self,entrada):\n",
    "        return self.__sigmoide(dot(entrada, self.pesos_signaticos))\n",
    "\n",
    "if __name__ == '__main__':\n",
    "    red_neuronal = RedNeuronal()\n",
    "    entradas = array([[1,1,1],\n",
    "                      [0,1,0], \n",
    "                      [0,1,1],\n",
    "                      [1,0,1]])\n",
    "    salidas = array([[1,1,0,1]]).T\n",
    "    red_neuronal.entrenamiento(entradas,salidas,500)\n",
    "    print(red_neuronal.pesos_signaticos)\n",
    "    print(red_neuronal.pensar(array([1,0,0])))\n",
    "    \n",
    "     "
   ]
  },
  {
   "cell_type": "code",
   "execution_count": null,
   "metadata": {},
   "outputs": [],
   "source": []
  },
  {
   "cell_type": "code",
   "execution_count": null,
   "metadata": {},
   "outputs": [],
   "source": []
  },
  {
   "cell_type": "code",
   "execution_count": null,
   "metadata": {},
   "outputs": [],
   "source": []
  }
 ],
 "metadata": {
  "kernelspec": {
   "display_name": "Python 3",
   "language": "python",
   "name": "python3"
  },
  "language_info": {
   "codemirror_mode": {
    "name": "ipython",
    "version": 3
   },
   "file_extension": ".py",
   "mimetype": "text/x-python",
   "name": "python",
   "nbconvert_exporter": "python",
   "pygments_lexer": "ipython3",
   "version": "3.7.3"
  }
 },
 "nbformat": 4,
 "nbformat_minor": 2
}
